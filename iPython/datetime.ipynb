{
 "cells": [
  {
   "cell_type": "code",
   "execution_count": 10,
   "metadata": {},
   "outputs": [],
   "source": [
    "import statsmodels.api as sm\n",
    "import matplotlib.pyplot as plt\n",
    "import matplotlib.pylab as plb\n",
    "import numpy as np\n",
    "import pandas as pd\n",
    "from sqlalchemy import create_engine\n",
    "import seaborn as sns\n",
    "import mysql.connector as mariadb\n",
    "import datetime\n",
    "#import date,datetime, timedelta\n"
   ]
  },
  {
   "cell_type": "code",
   "execution_count": 12,
   "metadata": {},
   "outputs": [
    {
     "name": "stdout",
     "output_type": "stream",
     "text": [
      "[datetime.date(2020, 3, 12), datetime.date(2020, 3, 11), datetime.date(2020, 3, 10), datetime.date(2020, 3, 9), datetime.date(2020, 3, 8), datetime.date(2020, 3, 7), datetime.date(2020, 3, 6), datetime.date(2020, 3, 5), datetime.date(2020, 3, 4), datetime.date(2020, 3, 3)]\n"
     ]
    }
   ],
   "source": [
    "numdays=10\n",
    "base = datetime.date.today()\n",
    "date_list = [base - datetime.timedelta(days=x) for x in range(numdays)]\n",
    "print(date_list)"
   ]
  },
  {
   "cell_type": "code",
   "execution_count": 23,
   "metadata": {},
   "outputs": [
    {
     "name": "stdout",
     "output_type": "stream",
     "text": [
      "<class 'int'>\n"
     ]
    }
   ],
   "source": [
    "sdate = date(2014, 1, 1)   # start date\n",
    "edate = date(2019, 12, 31)   # end date\n",
    "\n",
    "delta = edate - sdate       # as timedelta\n",
    "print(type(delta.days))\n",
    "date_list = []\n",
    "\n",
    "for i in range(delta.days + 1):\n",
    "    day = sdate + timedelta(days=i)\n",
    "    date_list.append(day)\n",
    "    \n",
    "#print(date_list)"
   ]
  },
  {
   "cell_type": "code",
   "execution_count": null,
   "metadata": {},
   "outputs": [],
   "source": []
  }
 ],
 "metadata": {
  "kernelspec": {
   "display_name": "Python 3",
   "language": "python",
   "name": "python3"
  },
  "language_info": {
   "codemirror_mode": {
    "name": "ipython",
    "version": 3
   },
   "file_extension": ".py",
   "mimetype": "text/x-python",
   "name": "python",
   "nbconvert_exporter": "python",
   "pygments_lexer": "ipython3",
   "version": "3.7.4"
  }
 },
 "nbformat": 4,
 "nbformat_minor": 2
}
